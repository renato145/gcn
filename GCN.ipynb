{
 "cells": [
  {
   "cell_type": "code",
   "execution_count": 1,
   "metadata": {},
   "outputs": [],
   "source": [
    "import numpy as np, pandas as pd, math, torch\n",
    "import matplotlib.pyplot as plt\n",
    "from pathlib import Path\n",
    "from functools import partial\n",
    "%matplotlib inline"
   ]
  },
  {
   "cell_type": "code",
   "execution_count": 2,
   "metadata": {},
   "outputs": [],
   "source": [
    "device = torch.device('cuda') if torch.cuda.is_available() else torch.device('cpu')"
   ]
  },
  {
   "cell_type": "markdown",
   "metadata": {},
   "source": [
    "# Graph Convolutional Networks"
   ]
  },
  {
   "cell_type": "markdown",
   "metadata": {},
   "source": [
    "## Load data"
   ]
  },
  {
   "cell_type": "code",
   "execution_count": 3,
   "metadata": {},
   "outputs": [],
   "source": [
    "path = Path('data/cora')"
   ]
  },
  {
   "cell_type": "code",
   "execution_count": 4,
   "metadata": {},
   "outputs": [
    {
     "data": {
      "text/plain": [
       "array([['31336', '0', '0', ..., '0', '0', 'Neural_Networks'],\n",
       "       ['1061127', '0', '0', ..., '0', '0', 'Rule_Learning'],\n",
       "       ['1106406', '0', '0', ..., '0', '0', 'Reinforcement_Learning'],\n",
       "       ...,\n",
       "       ['1128978', '0', '0', ..., '0', '0', 'Genetic_Algorithms'],\n",
       "       ['117328', '0', '0', ..., '0', '0', 'Case_Based'],\n",
       "       ['24043', '0', '0', ..., '0', '0', 'Neural_Networks']],\n",
       "      dtype='<U22')"
      ]
     },
     "execution_count": 4,
     "metadata": {},
     "output_type": "execute_result"
    }
   ],
   "source": [
    "paper_features_label = np.genfromtxt(path/'cora.content', dtype=np.str)\n",
    "paper_features_label\n",
    "# <paper_id> <word_attributes>+ <class_label>"
   ]
  },
  {
   "cell_type": "code",
   "execution_count": 5,
   "metadata": {},
   "outputs": [
    {
     "data": {
      "text/plain": [
       "<2708x1433 sparse matrix of type '<class 'numpy.float32'>'\n",
       "\twith 3880564 stored elements in Compressed Sparse Row format>"
      ]
     },
     "execution_count": 5,
     "metadata": {},
     "output_type": "execute_result"
    }
   ],
   "source": [
    "from scipy.sparse import csr_matrix\n",
    "\n",
    "features = csr_matrix(paper_features_label[:, 1:-1], dtype=np.float32)\n",
    "features"
   ]
  },
  {
   "cell_type": "code",
   "execution_count": 6,
   "metadata": {},
   "outputs": [
    {
     "data": {
      "text/plain": [
       "[2, 5, 4, 4, 3]"
      ]
     },
     "execution_count": 6,
     "metadata": {},
     "output_type": "execute_result"
    }
   ],
   "source": [
    "labels = paper_features_label[:, -1]\n",
    "lbl2idx = {k:v for v,k in enumerate(sorted(np.unique(labels)))}\n",
    "labels = [lbl2idx[e] for e in labels]\n",
    "labels[:5]"
   ]
  },
  {
   "cell_type": "code",
   "execution_count": 7,
   "metadata": {},
   "outputs": [
    {
     "data": {
      "text/plain": [
       "array([  31336, 1061127, 1106406, ..., 1128978,  117328,   24043],\n",
       "      dtype=int32)"
      ]
     },
     "execution_count": 7,
     "metadata": {},
     "output_type": "execute_result"
    }
   ],
   "source": [
    "papers = paper_features_label[:,0].astype(np.int32)\n",
    "papers"
   ]
  },
  {
   "cell_type": "code",
   "execution_count": 8,
   "metadata": {},
   "outputs": [
    {
     "data": {
      "text/plain": [
       "array([[ 163,  402],\n",
       "       [ 163,  659],\n",
       "       [ 163, 1696],\n",
       "       ...,\n",
       "       [1887, 2258],\n",
       "       [1902, 1887],\n",
       "       [ 837, 1686]], dtype=int32)"
      ]
     },
     "execution_count": 8,
     "metadata": {},
     "output_type": "execute_result"
    }
   ],
   "source": [
    "paper2idx = {k:v for v,k in enumerate(papers)}\n",
    "edges = np.genfromtxt(path/'cora.cites', dtype=np.int32)\n",
    "edges = np.asarray([paper2idx[e] for e in edges.flatten()], np.int32).reshape(edges.shape)\n",
    "edges\n",
    "# <ID of cited paper> <ID of citing paper>"
   ]
  },
  {
   "cell_type": "code",
   "execution_count": 9,
   "metadata": {},
   "outputs": [
    {
     "data": {
      "text/plain": [
       "<2708x2708 sparse matrix of type '<class 'numpy.float32'>'\n",
       "\twith 5429 stored elements in COOrdinate format>"
      ]
     },
     "execution_count": 9,
     "metadata": {},
     "output_type": "execute_result"
    }
   ],
   "source": [
    "# Adjacency matrix\n",
    "from scipy.sparse import coo_matrix\n",
    "\n",
    "adj = coo_matrix((np.ones(edges.shape[0]), (edges[:, 0], edges[:, 1])),\n",
    "                 shape=(len(labels), len(labels)), dtype=np.float32)\n",
    "adj"
   ]
  },
  {
   "cell_type": "code",
   "execution_count": 10,
   "metadata": {},
   "outputs": [],
   "source": [
    "# Symmetric adjacency matrix\n",
    "adj = adj + adj.T.multiply(adj.T > adj) - adj.multiply(adj.T > adj)"
   ]
  },
  {
   "cell_type": "code",
   "execution_count": 11,
   "metadata": {},
   "outputs": [],
   "source": [
    "from scipy.sparse import diags\n",
    "\n",
    "def normalize(mx):\n",
    "    '''Row-normalize sparse matrix'''\n",
    "    rowsum = np.array(mx.sum(1))\n",
    "    r_inv = (rowsum ** -1).flatten()\n",
    "    r_inv[np.isinf(r_inv)] = 0.\n",
    "    r_mat_inv = diags(r_inv)\n",
    "    mx = r_mat_inv.dot(mx)\n",
    "    return mx"
   ]
  },
  {
   "cell_type": "code",
   "execution_count": 12,
   "metadata": {},
   "outputs": [],
   "source": [
    "# Normalize features\n",
    "features = normalize(features)"
   ]
  },
  {
   "cell_type": "code",
   "execution_count": 13,
   "metadata": {},
   "outputs": [],
   "source": [
    "from scipy.sparse import eye\n",
    "\n",
    "# Normalize and enforce self-loops in the graph\n",
    "adj = normalize(adj + eye(adj.shape[0]))"
   ]
  },
  {
   "cell_type": "code",
   "execution_count": 14,
   "metadata": {},
   "outputs": [],
   "source": [
    "# Transform adj matrix to torch sparse tensor\n",
    "# adj = adj.tocoo().astype(np.float32)\n",
    "# adj = torch.sparse_coo_tensor((adj.row, adj.col), adj.data, adj.shape)\n",
    "# adj"
   ]
  },
  {
   "cell_type": "code",
   "execution_count": 15,
   "metadata": {},
   "outputs": [],
   "source": [
    "# Data as tensors\n",
    "adj = torch.FloatTensor(adj.todense())\n",
    "features = torch.FloatTensor(features.todense())\n",
    "labels = torch.LongTensor(labels)"
   ]
  },
  {
   "cell_type": "markdown",
   "metadata": {},
   "source": [
    "## Tran val test split"
   ]
  },
  {
   "cell_type": "code",
   "execution_count": 16,
   "metadata": {},
   "outputs": [],
   "source": [
    "np.random.seed(34)\n",
    "n_train = 200\n",
    "n_val = 300\n",
    "n_test = len(features) - n_train - n_val\n",
    "idxs = np.random.permutation(len(features))\n",
    "idx_train = torch.LongTensor(idxs[:n_train])\n",
    "idx_val   = torch.LongTensor(idxs[n_train:n_train+n_val])\n",
    "idx_test  = torch.LongTensor(idxs[n_train+n_val:])"
   ]
  },
  {
   "cell_type": "code",
   "execution_count": 18,
   "metadata": {},
   "outputs": [],
   "source": [
    "# gpu if available\n",
    "adj = adj.to(device)\n",
    "features = features.to(device)\n",
    "labels = labels.to(device)\n",
    "idx_train = idx_train.to(device)\n",
    "idx_val = idx_val.to(device)\n",
    "idx_test = idx_test.to(device)"
   ]
  },
  {
   "cell_type": "markdown",
   "metadata": {},
   "source": [
    "## Model"
   ]
  },
  {
   "cell_type": "code",
   "execution_count": 26,
   "metadata": {},
   "outputs": [],
   "source": [
    "from torch import nn\n",
    "import torch.nn.functional as F\n",
    "\n",
    "class GraphConvolution(nn.Module):\n",
    "    def __init__(self, f_in, f_out, use_bias=True, activation=F.relu_):\n",
    "        super().__init__()\n",
    "        self.f_in = f_in\n",
    "        self.f_out = f_out\n",
    "        self.use_bias = use_bias\n",
    "        self.activation = activation\n",
    "        self.weight = nn.Parameter(torch.FloatTensor(f_in, f_out))\n",
    "        self.bias = nn.Parameter(torch.FloatTensor(f_out)) if use_bias else None\n",
    "        self.initialize_weights()\n",
    "        \n",
    "    def initialize_weights(self):\n",
    "        if self.activation is None: nn.init.xavier_uniform_(self.weight)\n",
    "        else: nn.init.kaiming_uniform_(self.weight, nonlinearity='relu')\n",
    "        if self.use_bias: nn.init.zeros_(self.bias)\n",
    "        \n",
    "    def forward(self, input, adj):\n",
    "        support = torch.mm(input, self.weight)\n",
    "        output = torch.mm(adj, support)\n",
    "        # output = torch.spmm(adj, support) # In case of using sparse adj\n",
    "        if self.use_bias: output.add_(self.bias)\n",
    "        if self.activation is not None: self.activation(output)\n",
    "        return output\n",
    "\n",
    "class GCN(nn.Module):\n",
    "    def __init__(self, f_in, n_classes, hidden=[16], dropouts=[0.5]):\n",
    "        super().__init__()\n",
    "        layers = []\n",
    "        for f_in,f_out in zip([f_in]+hidden[:-1], hidden):\n",
    "            layers += [GraphConvolution(f_in, f_out)]\n",
    "            \n",
    "        self.layers = nn.Sequential(*layers)\n",
    "        self.dropouts = dropouts\n",
    "        self.out_layer = GraphConvolution(f_out, n_classes, activation=None)\n",
    "        \n",
    "    def forward(self, x, adj):\n",
    "        for layer,d in zip(self.layers, self.dropouts):\n",
    "            x = layer(x, adj)\n",
    "            if d > 0: F.dropout(x, d, training=self.training)\n",
    "                \n",
    "        return self.out_layer(x, adj)"
   ]
  },
  {
   "cell_type": "code",
   "execution_count": 27,
   "metadata": {},
   "outputs": [
    {
     "data": {
      "text/plain": [
       "(7, 1433)"
      ]
     },
     "execution_count": 27,
     "metadata": {},
     "output_type": "execute_result"
    }
   ],
   "source": [
    "n_labels = labels.max().item() + 1\n",
    "n_features = features.shape[1]\n",
    "n_labels, n_features"
   ]
  },
  {
   "cell_type": "markdown",
   "metadata": {},
   "source": [
    "# Train"
   ]
  },
  {
   "cell_type": "code",
   "execution_count": 28,
   "metadata": {},
   "outputs": [],
   "source": [
    "def accuracy(output,y):\n",
    "    return (output.argmax(1) == y).type(torch.float32).mean().item()\n",
    "\n",
    "def step():\n",
    "    model.train()\n",
    "    optimizer.zero_grad()\n",
    "    output = model(features, adj)\n",
    "    loss = F.cross_entropy(output[idx_train], labels[idx_train])\n",
    "    acc = accuracy(output[idx_train], labels[idx_train])\n",
    "    loss.backward()\n",
    "    optimizer.step()\n",
    "    return loss.item(), acc\n",
    "\n",
    "def evaluate(idx):\n",
    "    model.eval()\n",
    "    output = model(features, adj)\n",
    "    loss = F.cross_entropy(output[idx], labels[idx]).item()\n",
    "    return loss, accuracy(output[idx], labels[idx])"
   ]
  },
  {
   "cell_type": "code",
   "execution_count": 29,
   "metadata": {},
   "outputs": [],
   "source": [
    "lr = 1e-3\n",
    "model = GCN(n_features, n_labels, hidden=[16, 32, 16], dropouts=[0.5, 0, 0.5]).to(device)\n",
    "optimizer = torch.optim.Adam(model.parameters(), lr, weight_decay=5e-4)"
   ]
  },
  {
   "cell_type": "code",
   "execution_count": 30,
   "metadata": {},
   "outputs": [
    {
     "data": {
      "application/vnd.jupyter.widget-view+json": {
       "model_id": "103abc188b464668b0299c081cac4254",
       "version_major": 2,
       "version_minor": 0
      },
      "text/plain": [
       "HBox(children=(FloatProgress(value=0.0, max=500.0), HTML(value='')))"
      ]
     },
     "metadata": {},
     "output_type": "display_data"
    },
    {
     "name": "stdout",
     "output_type": "stream",
     "text": [
      "     1/500: train_loss=1.9559, train_acc=0.1150, val_loss=1.9624, val_acc=0.1033\n",
      "    50/500: train_loss=1.8479, train_acc=0.3850, val_loss=1.8657, val_acc=0.3000\n",
      "   100/500: train_loss=1.5680, train_acc=0.6300, val_loss=1.6557, val_acc=0.5533\n",
      "   150/500: train_loss=1.0789, train_acc=0.6750, val_loss=1.2820, val_acc=0.5700\n",
      "   200/500: train_loss=0.6957, train_acc=0.7850, val_loss=0.9428, val_acc=0.6633\n",
      "   250/500: train_loss=0.4078, train_acc=0.9300, val_loss=0.6995, val_acc=0.8033\n",
      "   300/500: train_loss=0.2240, train_acc=0.9600, val_loss=0.6047, val_acc=0.8000\n",
      "   350/500: train_loss=0.1352, train_acc=0.9900, val_loss=0.5955, val_acc=0.8033\n",
      "   400/500: train_loss=0.0919, train_acc=0.9900, val_loss=0.6165, val_acc=0.8000\n",
      "   450/500: train_loss=0.0654, train_acc=0.9950, val_loss=0.6418, val_acc=0.8000\n",
      "   500/500: train_loss=0.0495, train_acc=1.0000, val_loss=0.6631, val_acc=0.7967\n",
      "\n"
     ]
    }
   ],
   "source": [
    "from tqdm.notebook import trange\n",
    "\n",
    "epochs = 500\n",
    "print_steps = 50\n",
    "train_loss, train_acc = [], []\n",
    "val_loss, val_acc = [], []\n",
    "for i in trange(epochs):\n",
    "    with torch.autograd.set_detect_anomaly(True): tl, ta = step()\n",
    "#     tl, ta = step()\n",
    "    train_loss += [tl]\n",
    "    train_acc += [ta]\n",
    "    if (i+1)%print_steps == 0 or i == 0:\n",
    "        tl, ta = evaluate(idx_train)\n",
    "        vl, va = evaluate(idx_val)\n",
    "        val_loss += [vl]\n",
    "        val_acc += [va]\n",
    "        print(f'{i+1:6d}/{epochs}: train_loss={tl:.4f}, train_acc={ta:.4f}'+\n",
    "              f', val_loss={vl:.4f}, val_acc={va:.4f}')"
   ]
  },
  {
   "cell_type": "code",
   "execution_count": 31,
   "metadata": {},
   "outputs": [
    {
     "name": "stdout",
     "output_type": "stream",
     "text": [
      "Train     : loss=0.0495, accuracy=1.0000\n",
      "Validation: loss=0.6631, accuracy=0.7967\n",
      "Test      : loss=0.8914, accuracy=0.7631\n",
      "\n"
     ]
    },
    {
     "data": {
      "image/png": "[encoded data removed]",
      "text/plain": [
       "<Figure size 1080x360 with 2 Axes>"
      ]
     },
     "metadata": {
      "needs_background": "light"
     },
     "output_type": "display_data"
    }
   ],
   "source": [
    "final_train, final_val, final_test = evaluate(idx_train), evaluate(idx_val), evaluate(idx_test)\n",
    "print(f'Train     : loss={final_train[0]:.4f}, accuracy={final_train[1]:.4f}')\n",
    "print(f'Validation: loss={final_val[0]:.4f}, accuracy={final_val[1]:.4f}')\n",
    "print(f'Test      : loss={final_test[0]:.4f}, accuracy={final_test[1]:.4f}')\n",
    "print()\n",
    "\n",
    "fig, axes = plt.subplots(1, 2, figsize=(15,5))\n",
    "ax = axes[0]\n",
    "axes[0].plot(train_loss[::print_steps] + [train_loss[-1]], label='Train')\n",
    "axes[0].plot(val_loss, label='Validation')\n",
    "axes[1].plot(train_acc[::print_steps] + [train_acc[-1]], label='Train')\n",
    "axes[1].plot(val_acc, label='Validation')\n",
    "for ax,t in zip(axes, ['Loss', 'Accuracy']): ax.legend(), ax.set_title(t, size=15)"
   ]
  },
  {
   "cell_type": "markdown",
   "metadata": {},
   "source": [
    "## Output examples from test"
   ]
  },
  {
   "cell_type": "code",
   "execution_count": 32,
   "metadata": {},
   "outputs": [],
   "source": [
    "output = model(features, adj)"
   ]
  },
  {
   "cell_type": "code",
   "execution_count": 33,
   "metadata": {},
   "outputs": [
    {
     "data": {
      "text/html": [
       "<div>\n",
       "<style scoped>\n",
       "    .dataframe tbody tr th:only-of-type {\n",
       "        vertical-align: middle;\n",
       "    }\n",
       "\n",
       "    .dataframe tbody tr th {\n",
       "        vertical-align: top;\n",
       "    }\n",
       "\n",
       "    .dataframe thead th {\n",
       "        text-align: right;\n",
       "    }\n",
       "</style>\n",
       "<table border=\"1\" class=\"dataframe\">\n",
       "  <thead>\n",
       "    <tr style=\"text-align: right;\">\n",
       "      <th></th>\n",
       "      <th>Real</th>\n",
       "      <th>Pred</th>\n",
       "    </tr>\n",
       "  </thead>\n",
       "  <tbody>\n",
       "    <tr>\n",
       "      <th>0</th>\n",
       "      <td>Probabilistic_Methods</td>\n",
       "      <td>Case_Based</td>\n",
       "    </tr>\n",
       "    <tr>\n",
       "      <th>1</th>\n",
       "      <td>Genetic_Algorithms</td>\n",
       "      <td>Genetic_Algorithms</td>\n",
       "    </tr>\n",
       "    <tr>\n",
       "      <th>2</th>\n",
       "      <td>Neural_Networks</td>\n",
       "      <td>Neural_Networks</td>\n",
       "    </tr>\n",
       "    <tr>\n",
       "      <th>3</th>\n",
       "      <td>Theory</td>\n",
       "      <td>Theory</td>\n",
       "    </tr>\n",
       "    <tr>\n",
       "      <th>4</th>\n",
       "      <td>Reinforcement_Learning</td>\n",
       "      <td>Theory</td>\n",
       "    </tr>\n",
       "    <tr>\n",
       "      <th>5</th>\n",
       "      <td>Neural_Networks</td>\n",
       "      <td>Neural_Networks</td>\n",
       "    </tr>\n",
       "    <tr>\n",
       "      <th>6</th>\n",
       "      <td>Probabilistic_Methods</td>\n",
       "      <td>Probabilistic_Methods</td>\n",
       "    </tr>\n",
       "    <tr>\n",
       "      <th>7</th>\n",
       "      <td>Theory</td>\n",
       "      <td>Theory</td>\n",
       "    </tr>\n",
       "    <tr>\n",
       "      <th>8</th>\n",
       "      <td>Neural_Networks</td>\n",
       "      <td>Neural_Networks</td>\n",
       "    </tr>\n",
       "    <tr>\n",
       "      <th>9</th>\n",
       "      <td>Neural_Networks</td>\n",
       "      <td>Neural_Networks</td>\n",
       "    </tr>\n",
       "  </tbody>\n",
       "</table>\n",
       "</div>"
      ],
      "text/plain": [
       "                     Real                   Pred\n",
       "0   Probabilistic_Methods             Case_Based\n",
       "1      Genetic_Algorithms     Genetic_Algorithms\n",
       "2         Neural_Networks        Neural_Networks\n",
       "3                  Theory                 Theory\n",
       "4  Reinforcement_Learning                 Theory\n",
       "5         Neural_Networks        Neural_Networks\n",
       "6   Probabilistic_Methods  Probabilistic_Methods\n",
       "7                  Theory                 Theory\n",
       "8         Neural_Networks        Neural_Networks\n",
       "9         Neural_Networks        Neural_Networks"
      ]
     },
     "execution_count": 33,
     "metadata": {},
     "output_type": "execute_result"
    }
   ],
   "source": [
    "samples = 10\n",
    "idx_sample = idx_test[torch.randperm(len(idx_test))[:samples]]\n",
    "\n",
    "idx2lbl = {v:k for k,v in lbl2idx.items()}\n",
    "df = pd.DataFrame({'Real': [idx2lbl[e] for e in labels[idx_sample].tolist()],\n",
    "                   'Pred': [idx2lbl[e] for e in output[idx_sample].argmax(1).tolist()]})\n",
    "df"
   ]
  },
  {
   "cell_type": "code",
   "execution_count": null,
   "metadata": {},
   "outputs": [],
   "source": []
  }
 ],
 "metadata": {
  "kernelspec": {
   "display_name": "Python 3",
   "language": "python",
   "name": "python3"
  },
  "language_info": {
   "codemirror_mode": {
    "name": "ipython",
    "version": 3
   },
   "file_extension": ".py",
   "mimetype": "text/x-python",
   "name": "python",
   "nbconvert_exporter": "python",
   "pygments_lexer": "ipython3",
   "version": "3.7.5"
  },
  "toc": {
   "base_numbering": 1,
   "nav_menu": {},
   "number_sections": true,
   "sideBar": true,
   "skip_h1_title": false,
   "title_cell": "Table of Contents",
   "title_sidebar": "Contents",
   "toc_cell": false,
   "toc_position": {},
   "toc_section_display": true,
   "toc_window_display": false
  }
 },
 "nbformat": 4,
 "nbformat_minor": 2
}
